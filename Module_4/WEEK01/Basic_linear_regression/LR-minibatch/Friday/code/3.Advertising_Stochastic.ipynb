{
 "cells": [
  {
   "cell_type": "code",
   "execution_count": 1,
   "id": "3001f6bf",
   "metadata": {},
   "outputs": [
    {
     "name": "stdout",
     "output_type": "stream",
     "text": [
      "[[nan, nan, nan, nan], [230.1, 37.8, 69.2, 22.1], [44.5, 39.3, 45.1, 10.4], [17.2, 45.9, 69.3, 12.0], [151.5, 41.3, 58.5, 16.5]]\n"
     ]
    }
   ],
   "source": [
    "# load a cvs file\n",
    "import numpy as np\n",
    "\n",
    "# tv, radio, newspaper, sales\n",
    "data = np.genfromtxt('advertising.csv', delimiter=',').tolist()\n",
    "print(data[:5])"
   ]
  },
  {
   "cell_type": "code",
   "execution_count": null,
   "id": "9ada11e4",
   "metadata": {},
   "outputs": [],
   "source": []
  },
  {
   "cell_type": "code",
   "execution_count": 2,
   "id": "7b3f0a54",
   "metadata": {},
   "outputs": [
    {
     "name": "stdout",
     "output_type": "stream",
     "text": [
      "[[230.1, 37.8, 69.2, 22.1], [44.5, 39.3, 45.1, 10.4], [17.2, 45.9, 69.3, 12.0], [151.5, 41.3, 58.5, 16.5], [180.8, 10.8, 58.4, 17.9]]\n"
     ]
    }
   ],
   "source": [
    "# load a cvs file\n",
    "import numpy as np\n",
    "\n",
    "data = np.genfromtxt('advertising.csv', delimiter=',', skip_header=1).tolist()\n",
    "print(data[:5])"
   ]
  },
  {
   "cell_type": "code",
   "execution_count": null,
   "id": "6722545a",
   "metadata": {},
   "outputs": [],
   "source": []
  },
  {
   "cell_type": "code",
   "execution_count": null,
   "id": "3d19ff92",
   "metadata": {},
   "outputs": [],
   "source": []
  },
  {
   "cell_type": "markdown",
   "id": "9e349e20",
   "metadata": {},
   "source": [
    "#### implementation"
   ]
  },
  {
   "cell_type": "code",
   "execution_count": 3,
   "id": "438ce821",
   "metadata": {},
   "outputs": [
    {
     "name": "stdout",
     "output_type": "stream",
     "text": [
      "[230.1, 44.5, 17.2, 151.5, 180.8]\n",
      "[37.8, 39.3, 45.9, 41.3, 10.8]\n",
      "[69.2, 45.1, 69.3, 58.5, 58.4]\n",
      "[22.1, 10.4, 12.0, 16.5, 17.9]\n"
     ]
    }
   ],
   "source": [
    "# dataset\n",
    "import numpy as np\n",
    "import matplotlib.pyplot as plt\n",
    "import random\n",
    "\n",
    "def get_column(data, index):\n",
    "    result = [row[index] for row in data]\n",
    "    return result\n",
    "\n",
    "data = np.genfromtxt('advertising.csv', delimiter=',', skip_header=1).tolist()\n",
    "N = len(data)\n",
    "\n",
    "# get tv (index=0)\n",
    "tv_data = get_column(data, 0)\n",
    "print(tv_data[:5])\n",
    "\n",
    "# get radio (index=1)\n",
    "radio_data = get_column(data, 1)\n",
    "print(radio_data[:5])\n",
    "\n",
    "# get newspaper (index=2)\n",
    "newspaper_data = get_column(data, 2)\n",
    "print(newspaper_data[:5])\n",
    "\n",
    "# get sales (index=0)\n",
    "sales_data = get_column(data, 3)\n",
    "print(sales_data[:5])"
   ]
  },
  {
   "cell_type": "code",
   "execution_count": null,
   "id": "88d42196",
   "metadata": {},
   "outputs": [],
   "source": []
  },
  {
   "cell_type": "code",
   "execution_count": 4,
   "id": "cc65ed05",
   "metadata": {},
   "outputs": [],
   "source": [
    "# compute output and loss\n",
    "def predict(x1, x2, x3, w1, w2, w3, b):\n",
    "    return w1*x1 + w2*x2 + w3*x3 + b\n",
    "def compute_loss(y_hat, y):\n",
    "    return (y_hat - y)**2\n",
    "\n",
    "# compute gradient\n",
    "def compute_gradient_wi(xi, y, y_hat):\n",
    "    dl_dwi = 2*xi*(y_hat-y)\n",
    "    return dl_dwi \n",
    "def compute_gradient_b(y, y_hat):\n",
    "    dl_db = 2*(y_hat-y)\n",
    "    return dl_db\n",
    "\n",
    "# update weights\n",
    "def update_weight_wi(wi, dl_dwi, lr):\n",
    "    wi = wi - lr*dl_dwi\n",
    "    return wi    \n",
    "def update_weight_b(b, dl_db, lr):    \n",
    "    b  = b - lr*dl_db    \n",
    "    return b"
   ]
  },
  {
   "cell_type": "code",
   "execution_count": null,
   "id": "28f3addc",
   "metadata": {},
   "outputs": [],
   "source": []
  },
  {
   "cell_type": "code",
   "execution_count": 5,
   "id": "918b429f",
   "metadata": {},
   "outputs": [
    {
     "name": "stdout",
     "output_type": "stream",
     "text": [
      "-0.008698351946278859 -0.005743277253782298 -0.004586698090394985 0\n"
     ]
    }
   ],
   "source": [
    "def initialize_params():\n",
    "    w1 = random.gauss(mu=0.0, sigma=0.01)\n",
    "    w2 = random.gauss(mu=0.0, sigma=0.01)\n",
    "    w3 = random.gauss(mu=0.0, sigma=0.01)\n",
    "    b  = 0\n",
    "    \n",
    "    return w1, w2, w3, b\n",
    "\n",
    "# initialize model's parameters\n",
    "w1, w2, w3, b = initialize_params()\n",
    "print(w1, w2, w3, b)"
   ]
  },
  {
   "cell_type": "code",
   "execution_count": null,
   "id": "c43afd0a",
   "metadata": {},
   "outputs": [],
   "source": []
  },
  {
   "cell_type": "code",
   "execution_count": 6,
   "id": "94ea37a5",
   "metadata": {},
   "outputs": [],
   "source": [
    "epoch_max = 50\n",
    "lr = 1e-5\n",
    "losses = []\n",
    "\n",
    "for epoch in range(epoch_max):\n",
    "    for i in range(N):\n",
    "        # get a sample\n",
    "        x1 = tv_data[i]\n",
    "        x2 = radio_data[i]\n",
    "        x3 = newspaper_data[i]\n",
    "        y  = sales_data[i]\n",
    "        \n",
    "        # compute output \n",
    "        y_hat = predict(x1, x2, x3, w1, w2, w3, b)\n",
    "        \n",
    "        # compute loss\n",
    "        loss = compute_loss(y, y_hat)\n",
    "\n",
    "        # compute gradient w1, w2, w3, b\n",
    "        dl_dw1 = compute_gradient_wi(x1, y, y_hat)\n",
    "        dl_dw2 = compute_gradient_wi(x2, y, y_hat)\n",
    "        dl_dw3 = compute_gradient_wi(x3, y, y_hat)\n",
    "        dl_db  = compute_gradient_b(y, y_hat)\n",
    "\n",
    "\n",
    "        # update parameters\n",
    "        w1 = update_weight_wi(w1, dl_dw1, lr)\n",
    "        w2 = update_weight_wi(w2, dl_dw2, lr)\n",
    "        w3 = update_weight_wi(w3, dl_dw3, lr)\n",
    "        b  = update_weight_b(b, dl_db, lr)\n",
    "\n",
    "        # logging\n",
    "        losses.append(loss) "
   ]
  },
  {
   "cell_type": "code",
   "execution_count": null,
   "id": "091d717c",
   "metadata": {},
   "outputs": [],
   "source": []
  },
  {
   "cell_type": "code",
   "execution_count": 7,
   "id": "e263c5d5",
   "metadata": {},
   "outputs": [
    {
     "data": {
      "image/png": "[encoded data removed]",
      "text/plain": [
       "<Figure size 640x480 with 1 Axes>"
      ]
     },
     "metadata": {},
     "output_type": "display_data"
    }
   ],
   "source": [
    "plt.plot(losses)\n",
    "plt.show()"
   ]
  },
  {
   "cell_type": "markdown",
   "id": "143c7817",
   "metadata": {},
   "source": [
    "#### Inference"
   ]
  },
  {
   "cell_type": "code",
   "execution_count": 9,
   "id": "39e81837",
   "metadata": {},
   "outputs": [
    {
     "name": "stdout",
     "output_type": "stream",
     "text": [
      "0.0740591713478774 0.15917187763303095 0.01756042159747709 0.13940105786909532\n"
     ]
    }
   ],
   "source": [
    "# get model's parameters\n",
    "print(w1, w2, w3, b)"
   ]
  },
  {
   "cell_type": "code",
   "execution_count": 10,
   "id": "9042ab0f",
   "metadata": {},
   "outputs": [
    {
     "name": "stdout",
     "output_type": "stream",
     "text": [
      "predicted sales is 8.176457182724727\n"
     ]
    }
   ],
   "source": [
    "def predict(x1, x2, x3, w1, w2, w3, b):\n",
    "    return w1*x1 + w2*x2 + w3*x3 + b\n",
    "\n",
    "# given new data\n",
    "tv = 19.2\n",
    "radio = 35.9 \n",
    "newspaper = 51.3\n",
    "\n",
    "sales = predict(tv, radio, newspaper, w1, w2, w3, b)\n",
    "print(f'predicted sales is {sales}')"
   ]
  },
  {
   "cell_type": "code",
   "execution_count": 11,
   "id": "26496013",
   "metadata": {},
   "outputs": [
    {
     "name": "stdout",
     "output_type": "stream",
     "text": [
      "predicted sales is 24.412294534089668\n"
     ]
    }
   ],
   "source": [
    "# [230.1, 37.8, 69.2, 22.1]\n",
    "\n",
    "tv = 230.1\n",
    "radio = 37.8 \n",
    "newspaper = 69.2\n",
    "\n",
    "sales = predict(tv, radio, newspaper, w1, w2, w3, b)\n",
    "print(f'predicted sales is {sales}')"
   ]
  },
  {
   "cell_type": "code",
   "execution_count": null,
   "id": "4fb3160f-930b-4707-aebb-4f7312b400b3",
   "metadata": {},
   "outputs": [],
   "source": []
  }
 ],
 "metadata": {
  "kernelspec": {
   "display_name": "Python 3 (ipykernel)",
   "language": "python",
   "name": "python3"
  },
  "language_info": {
   "codemirror_mode": {
    "name": "ipython",
    "version": 3
   },
   "file_extension": ".py",
   "mimetype": "text/x-python",
   "name": "python",
   "nbconvert_exporter": "python",
   "pygments_lexer": "ipython3",
   "version": "3.11.5"
  }
 },
 "nbformat": 4,
 "nbformat_minor": 5
}
