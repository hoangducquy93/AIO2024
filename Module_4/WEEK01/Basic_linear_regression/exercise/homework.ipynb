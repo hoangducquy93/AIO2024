{
 "cells": [
  {
   "cell_type": "code",
   "execution_count": 4,
   "metadata": {},
   "outputs": [],
   "source": [
    "import numpy as np\n",
    "import matplotlib.pyplot as plt\n",
    "import random"
   ]
  },
  {
   "cell_type": "markdown",
   "metadata": {},
   "source": [
    "# Advertising"
   ]
  },
  {
   "cell_type": "code",
   "execution_count": 12,
   "metadata": {},
   "outputs": [],
   "source": [
    "data = np.genfromtxt('advertising.csv', delimiter=',', skip_header=1)\n",
    "N = data.shape[0]\n",
    "X = data[:,:3]\n",
    "Y = data[:,-1]"
   ]
  },
  {
   "cell_type": "code",
   "execution_count": 13,
   "metadata": {},
   "outputs": [
    {
     "data": {
      "text/plain": [
       "(200, 4)"
      ]
     },
     "execution_count": 13,
     "metadata": {},
     "output_type": "execute_result"
    }
   ],
   "source": [
    "def mean_normalization(x):\n",
    "    # Normalize input data by using mean normalizaton\n",
    "    N = len(x)\n",
    "    max = np.max(x)\n",
    "    min = np.min(x)\n",
    "    avg = np.mean(x)\n",
    "\n",
    "    x = (x-avg) / (max-min)\n",
    "    x_b = np.c_[np.ones((N,1)), x]\n",
    "\n",
    "    return x_b, max, min, avg\n",
    "\n",
    "X_b, maxi_x, mini_x, avg_x = mean_normalization(X)\n",
    "X_b.shape"
   ]
  },
  {
   "cell_type": "code",
   "execution_count": 6,
   "metadata": {},
   "outputs": [],
   "source": [
    "def stochastic_gradient_descent(X_b, y, n_epochs=50, learning_rate=0.00001):\n",
    "\n",
    "    # weights = np.random.randn(4, 1)\n",
    "    thetas = np.asarray ([[1.16270837] , [ -0.81960489] , [1.39501033] ,[0.29763545]]) #(4, 1)\n",
    "    thetas_path = [thetas]\n",
    "    losses = []\n",
    "\n",
    "    for epoch in range(n_epochs):\n",
    "        epoch_loss = 0.0\n",
    "        for i in range(N):\n",
    "            random_index = i\n",
    "\n",
    "            xi = X_b[random_index:random_index+1] #(1, 4)\n",
    "            yi = y[random_index:random_index+1] #(1,)\n",
    "\n",
    "            #compute output\n",
    "            y_hat = np.dot(xi, thetas) #(1, 1)\n",
    "\n",
    "            #compute loss li \n",
    "            loss_i = (y_hat - yi)**2 #(1, 1)\n",
    "\n",
    "            #compute gradient for loss\n",
    "            dl_dy = 2*(y_hat - yi) #(1 , 1)\n",
    "\n",
    "            #compute gradient\n",
    "            gradient = dl_dy * xi\n",
    "            \n",
    "            #update thetas\n",
    "            thetas = thetas - learning_rate * gradient.T\n",
    "\n",
    "            #logging\n",
    "            thetas_path.append(thetas)\n",
    "            losses.append(loss_i.item())\n",
    "\n",
    "    return thetas_path, losses\n"
   ]
  },
  {
   "cell_type": "code",
   "execution_count": 7,
   "metadata": {},
   "outputs": [
    {
     "data": {
      "image/png": "[encoded data removed]",
      "text/plain": [
       "<Figure size 640x480 with 1 Axes>"
      ]
     },
     "metadata": {},
     "output_type": "display_data"
    }
   ],
   "source": [
    "sgd_theta , losses = stochastic_gradient_descent(X_b , Y, n_epochs =50,learning_rate =0.01 )\n",
    "x_axis = list(range(500))\n",
    "plt.plot(x_axis , losses[:500] , color=\"r\")\n",
    "plt.show()"
   ]
  },
  {
   "cell_type": "code",
   "execution_count": 8,
   "metadata": {},
   "outputs": [
    {
     "name": "stdout",
     "output_type": "stream",
     "text": [
      "8392.629213090673\n"
     ]
    }
   ],
   "source": [
    "#Question 1:\n",
    "# a) 7865.65\n",
    "# b) 6865.65\n",
    "# c) 5865.65\n",
    "# d) 8865.65\n",
    "sgd_theta , losses = stochastic_gradient_descent(X_b , Y, n_epochs=1,learning_rate=0.01)\n",
    "print(np.sum(losses))"
   ]
  },
  {
   "cell_type": "code",
   "execution_count": 18,
   "metadata": {},
   "outputs": [],
   "source": [
    "def mini_batch_gradient_descent(X_b , y, n_epochs =50, minibatch_size =20, learning_rate =0.01):\n",
    "\n",
    "    # thetas = np.random.randn(4, 1)\n",
    "    thetas = np.asarray ([[1.16270837] , [ -0.81960489] , [1.39501033] ,[0.29763545]]) #(4, 1)\n",
    "\n",
    "    thetas_path = [thetas]\n",
    "    losses = []\n",
    "\n",
    "    for epoch in range(n_epochs):\n",
    "        # shuffled_indices = np.random.permutation(N) # uncomment this code for real application\n",
    "\n",
    "        shuffled_indices = np.asarray ([21, 144, 17, 107, 37, 115, 167, 31, 3,\n",
    "        132, 179, 155, 36, 191, 182, 170, 27, 35, 162, 25, 28, 73, 172, 152, 102, 16,\n",
    "        185, 11, 1, 34, 177, 29, 96, 22, 76, 196, 6, 128, 114, 117, 111, 43, 57, 126,\n",
    "        165, 78, 151, 104, 110, 53, 181, 113, 173, 75, 23, 161, 85, 94, 18, 148, 190,\n",
    "        169, 149, 79, 138, 20, 108, 137, 93, 192, 198, 153, 4, 45, 164, 26, 8, 131,\n",
    "        77, 80, 130, 127, 125, 61, 10, 175, 143, 87, 33, 50, 54, 97, 9, 84, 188, 139,\n",
    "        195, 72, 64, 194, 44, 109, 112, 60, 86, 90, 140, 171, 59, 199, 105, 41, 147,\n",
    "        92, 52, 124, 71, 197, 163, 98, 189, 103, 51, 39, 180, 74, 145, 118, 38, 47,\n",
    "        174, 100, 184, 183, 160, 69, 91, 82, 42, 89, 81, 186, 136, 63, 157, 46, 67,\n",
    "        129, 120, 116, 32, 19, 187, 70, 141, 146, 15, 58, 119, 12, 95, 0, 40, 83, 24,\n",
    "        168, 150, 178, 49, 159, 7, 193, 48, 30, 14, 121, 5, 142, 65, 176, 101, 55,\n",
    "        133, 13, 106, 66, 99, 68, 135, 158, 88, 62, 166, 156, 2, 134, 56, 123, 122,\n",
    "        154])\n",
    "\n",
    "        X_b_shuffled = X_b[shuffled_indices]\n",
    "        y_shuffled = y[shuffled_indices]\n",
    "\n",
    "        for i in range(0, N, minibatch_size):\n",
    "            xi = X_b_shuffled[i:i+minibatch_size] #(20, 4)\n",
    "            yi = y_shuffled[i:i+minibatch_size] #(20,)\n",
    "            \n",
    "\n",
    "            # compute output\n",
    "            #******* Your code here ********\n",
    "            y_hat = np.dot(xi, thetas) #(20, 1)\n",
    "\n",
    "            # compute loss\n",
    "            #******* Your code here ********\n",
    "            loss = (y_hat - yi.reshape(y_hat.shape)) ** 2 #(20, 1) - (20,)\n",
    "\n",
    "            # compute derivative of loss\n",
    "            #******* Your code here ********\n",
    "            dl_dyhat = 2*(y_hat - yi.reshape(y_hat.shape)) #(20, 1)\n",
    "\n",
    "            # compute derivative of parameters\n",
    "            #******* Your code here ********\n",
    "            gradients = xi.T.dot(dl_dyhat) #(4,20) and (20,1)\n",
    "\n",
    "            # update parameters\n",
    "            thetas = thetas - learning_rate*gradients\n",
    "            thetas_path.append(thetas)\n",
    "\n",
    "            loss_mean = np.sum(loss)/minibatch_size\n",
    "            losses.append(loss_mean)\n",
    "\n",
    "    return thetas_path , losses\n"
   ]
  },
  {
   "cell_type": "code",
   "execution_count": 19,
   "metadata": {},
   "outputs": [
    {
     "data": {
      "image/png": "[encoded data removed]",
      "text/plain": [
       "<Figure size 640x480 with 1 Axes>"
      ]
     },
     "metadata": {},
     "output_type": "display_data"
    }
   ],
   "source": [
    "mbgd_thetas , losses = mini_batch_gradient_descent(X_b , Y, n_epochs =50, minibatch_size = 20, learning_rate =0.01)\n",
    "\n",
    "x_axis = list(range(200))\n",
    "plt.plot(x_axis ,losses[:200] , color=\"r\")\n",
    "plt.show()"
   ]
  },
  {
   "cell_type": "code",
   "execution_count": 21,
   "metadata": {},
   "outputs": [
    {
     "name": "stdout",
     "output_type": "stream",
     "text": [
      "2727.28\n"
     ]
    }
   ],
   "source": [
    "#Question 2\n",
    "# a) 7865.65\n",
    "# b) 6865.65\n",
    "# c) 5865.65\n",
    "# d) 8865.65\n",
    "mbgd_thetas , losses = mini_batch_gradient_descent(X_b , Y, n_epochs =50,minibatch_size = 20, learning_rate =0.01)\n",
    "print(round(sum(losses) ,2))"
   ]
  },
  {
   "cell_type": "markdown",
   "metadata": {},
   "source": [
    "# BATCH_GRADIENT_DESCENT"
   ]
  },
  {
   "cell_type": "code",
   "execution_count": 8,
   "metadata": {},
   "outputs": [],
   "source": [
    "def batch_gradient_descent(X_b, y, n_epochs=100, learning_rate=0.01):\n",
    "    # X_b: features (200, 4)\n",
    "    # y: labels (200,)\n",
    "\n",
    "    thetas = np.asarray ([[1.16270837] , [ -0.81960489] , [1.39501033] , [0.29763545]]) #(4, 1)\n",
    "\n",
    "    thetas_path = [thetas]\n",
    "    losses = []\n",
    "\n",
    "    for epoch in range(n_epochs):\n",
    "        #compute output\n",
    "        y_hat = np.dot(X_b, thetas) #(200, 1)\n",
    "\n",
    "        #compute loss\n",
    "        loss = (y_hat - y.reshape(y_hat.shape)) ** 2 #(200, 1)\n",
    "\n",
    "        #compute loss's gradient\n",
    "        dl = 2 * (y_hat - y.reshape(y_hat.shape)) #(200, 1)\n",
    "\n",
    "        #compute parameters's gradient\n",
    "        gradients = np.dot(X_b.T, dl)\n",
    "\n",
    "        #update params\n",
    "        thetas = thetas - learning_rate * gradients\n",
    "        thetas_path.append(thetas)\n",
    "\n",
    "        mean_loss = np.sum(loss) / N\n",
    "        losses.append(mean_loss)\n",
    "\n",
    "    return thetas_path, losses\n"
   ]
  },
  {
   "cell_type": "code",
   "execution_count": 9,
   "metadata": {},
   "outputs": [
    {
     "data": {
      "image/png": "[encoded data removed]",
      "text/plain": [
       "<Figure size 640x480 with 1 Axes>"
      ]
     },
     "metadata": {},
     "output_type": "display_data"
    }
   ],
   "source": [
    "bgd_thetas , losses = batch_gradient_descent(X_b , Y, n_epochs = 100, learning_rate =0.01)\n",
    "\n",
    "x_axis = list(range(100))\n",
    "plt.plot(x_axis ,losses[:200] , color=\"r\")\n",
    "plt.show()"
   ]
  },
  {
   "cell_type": "code",
   "execution_count": 15,
   "metadata": {},
   "outputs": [
    {
     "name": "stdout",
     "output_type": "stream",
     "text": [
      "1.5373154381901923e+109\n"
     ]
    }
   ],
   "source": [
    "#Question 3\n",
    "# a) 7716.46\n",
    "# b) 8716.46\n",
    "# c) 6716.46\n",
    "# d) 5716.46\n",
    "bgd_thetas , losses = batch_gradient_descent(X_b , Y, n_epochs =100, learning_rate=0.01)\n",
    "print(round(sum(losses) ,2))"
   ]
  },
  {
   "cell_type": "markdown",
   "metadata": {},
   "source": [
    "# Bitcoin forecasting\n"
   ]
  }
 ],
 "metadata": {
  "kernelspec": {
   "display_name": ".venv",
   "language": "python",
   "name": "python3"
  },
  "language_info": {
   "codemirror_mode": {
    "name": "ipython",
    "version": 3
   },
   "file_extension": ".py",
   "mimetype": "text/x-python",
   "name": "python",
   "nbconvert_exporter": "python",
   "pygments_lexer": "ipython3",
   "version": "3.11.9"
  }
 },
 "nbformat": 4,
 "nbformat_minor": 2
}
